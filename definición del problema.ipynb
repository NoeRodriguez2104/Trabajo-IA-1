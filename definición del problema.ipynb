{
 "cells": [
  {
   "cell_type": "markdown",
   "id": "ead016e2",
   "metadata": {},
   "source": [
    "Pretendemos predecir la popularidad de una canción en función de sus características acústicas (danzabilidad, acusticidad, tempo...) para ello vamos a modelar una gráfica de regresión lineal porque pretendemos trabajar con valores continuos: popularidad (variable objetivo <i style=\"color:red;\">Y</i>), características acústicas (variables explicativas <i style=\"color:red;\">X</i>).\n",
    "\n"
   ]
  }
 ],
 "metadata": {
  "language_info": {
   "name": "python"
  }
 },
 "nbformat": 4,
 "nbformat_minor": 5
}
